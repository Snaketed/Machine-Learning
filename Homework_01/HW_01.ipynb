{
 "cells": [
  {
   "cell_type": "code",
   "execution_count": 61,
   "id": "returning-paraguay",
   "metadata": {},
   "outputs": [],
   "source": [
    "import random\n",
    "import numpy as np\n",
    "import time"
   ]
  },
  {
   "cell_type": "code",
   "execution_count": 62,
   "id": "norman-football",
   "metadata": {},
   "outputs": [],
   "source": [
    "def matrix_mult(matrix_1,matrix_2):\n",
    "    if len(matrix_1) != len(matrix_2[0]):\n",
    "        print('Matrix size is invalid')\n",
    "    mult = []\n",
    "    for z in range(len(matrix_1)):\n",
    "        t = []\n",
    "        for j in range(len(matrix_2[0])):\n",
    "            s = sum([matrix_1[z][i] * matrix_2[i][j] for i in range(len(matrix_1[0])) ])\n",
    "            t.append(s)\n",
    "        mult.append(t)\n",
    "    return res_mtrx"
   ]
  },
  {
   "cell_type": "code",
   "execution_count": 63,
   "id": "blond-trance",
   "metadata": {},
   "outputs": [],
   "source": [
    "def matmult(a,b):\n",
    "    zip_b = zip(*b)\n",
    "    zip_b = list(zip_b)\n",
    "    return [[sum(ele_a*ele_b for ele_a, ele_b in zip(row_a, col_b)) \n",
    "             for col_b in zip_b] for row_a in a]"
   ]
  },
  {
   "cell_type": "code",
   "execution_count": 64,
   "id": "biblical-moldova",
   "metadata": {},
   "outputs": [],
   "source": [
    "#count of row and colomn\n",
    "row = 100\n",
    "colomn = 100\n",
    "#create matrix for 100 row and 100-colomn from random number\n",
    "matrix_A = [[random.random() for i in range(row)] for j in range(colomn)];\n",
    "matrix_B = [[random.random() for i in range(row)] for j in range(colomn)];"
   ]
  },
  {
   "cell_type": "code",
   "execution_count": 65,
   "id": "sized-poster",
   "metadata": {},
   "outputs": [
    {
     "name": "stdout",
     "output_type": "stream",
     "text": [
      "Time: 0.23800325393676758\n"
     ]
    }
   ],
   "source": [
    "start_time = time.time()\n",
    "res_mtrx = matrix_mult(matrix_A, matrix_B)\n",
    "print(\"Time:\", (time.time() - start_time))"
   ]
  },
  {
   "cell_type": "code",
   "execution_count": 66,
   "id": "robust-deficit",
   "metadata": {},
   "outputs": [],
   "source": [
    "np_matrix_A = np.array(matrix_A);\n",
    "np_matrix_B = np.array(matrix_B);"
   ]
  },
  {
   "cell_type": "code",
   "execution_count": 67,
   "id": "graduate-nirvana",
   "metadata": {},
   "outputs": [
    {
     "name": "stdout",
     "output_type": "stream",
     "text": [
      "Time: 0.0029659271240234375\n"
     ]
    }
   ],
   "source": [
    "start_time_np = time.time()\n",
    "res_mtrx_np = np.dot(matrix_A,matrix_B)\n",
    "print(\"Time:\" ,(time.time() - start_time_np))"
   ]
  },
  {
   "cell_type": "code",
   "execution_count": null,
   "id": "scientific-stable",
   "metadata": {},
   "outputs": [],
   "source": []
  }
 ],
 "metadata": {
  "kernelspec": {
   "display_name": "Python 3",
   "language": "python",
   "name": "python3"
  },
  "language_info": {
   "codemirror_mode": {
    "name": "ipython",
    "version": 3
   },
   "file_extension": ".py",
   "mimetype": "text/x-python",
   "name": "python",
   "nbconvert_exporter": "python",
   "pygments_lexer": "ipython3",
   "version": "3.8.2"
  }
 },
 "nbformat": 4,
 "nbformat_minor": 5
}
