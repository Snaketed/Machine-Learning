{
 "cells": [
  {
   "cell_type": "code",
   "execution_count": 59,
   "id": "acoustic-powder",
   "metadata": {},
   "outputs": [],
   "source": [
    "import numpy as np\n",
    "import pandas as pd\n",
    "from sklearn.linear_model import PassiveAggressiveClassifier,RidgeClassifier,SGDClassifier\n",
    "from sklearn.svm import  SVC\n",
    "from sklearn.ensemble import RandomForestClassifier, GradientBoostingClassifier\n",
    "from sklearn.ensemble import AdaBoostClassifier\n",
    "from sklearn.naive_bayes import GaussianNB\n",
    "from sklearn.model_selection import train_test_split\n",
    "from sklearn.model_selection import cross_validate\n",
    "from sklearn.preprocessing import LabelEncoder\n",
    "from IPython.display import Markdown, display\n",
    "import matplotlib.pyplot as plt"
   ]
  },
  {
   "cell_type": "code",
   "execution_count": 64,
   "id": "considered-riding",
   "metadata": {},
   "outputs": [],
   "source": [
    "def printmd(string):\n",
    "    # Print with Markdowns    \n",
    "    display(Markdown(string))"
   ]
  },
  {
   "cell_type": "code",
   "execution_count": 52,
   "id": "ignored-tsunami",
   "metadata": {},
   "outputs": [
    {
     "data": {
      "text/html": [
       "<div>\n",
       "<style scoped>\n",
       "    .dataframe tbody tr th:only-of-type {\n",
       "        vertical-align: middle;\n",
       "    }\n",
       "\n",
       "    .dataframe tbody tr th {\n",
       "        vertical-align: top;\n",
       "    }\n",
       "\n",
       "    .dataframe thead th {\n",
       "        text-align: right;\n",
       "    }\n",
       "</style>\n",
       "<table border=\"1\" class=\"dataframe\">\n",
       "  <thead>\n",
       "    <tr style=\"text-align: right;\">\n",
       "      <th></th>\n",
       "      <th>class</th>\n",
       "      <th>cap-shape</th>\n",
       "      <th>cap-surface</th>\n",
       "      <th>cap-color</th>\n",
       "      <th>bruises</th>\n",
       "      <th>odor</th>\n",
       "      <th>gill-attachment</th>\n",
       "      <th>gill-spacing</th>\n",
       "    </tr>\n",
       "  </thead>\n",
       "  <tbody>\n",
       "    <tr>\n",
       "      <th>0</th>\n",
       "      <td>poisonous</td>\n",
       "      <td>x</td>\n",
       "      <td>s</td>\n",
       "      <td>n</td>\n",
       "      <td>t</td>\n",
       "      <td>p</td>\n",
       "      <td>f</td>\n",
       "      <td>c</td>\n",
       "    </tr>\n",
       "    <tr>\n",
       "      <th>1</th>\n",
       "      <td>edible</td>\n",
       "      <td>x</td>\n",
       "      <td>s</td>\n",
       "      <td>y</td>\n",
       "      <td>t</td>\n",
       "      <td>a</td>\n",
       "      <td>f</td>\n",
       "      <td>c</td>\n",
       "    </tr>\n",
       "    <tr>\n",
       "      <th>2</th>\n",
       "      <td>edible</td>\n",
       "      <td>b</td>\n",
       "      <td>s</td>\n",
       "      <td>w</td>\n",
       "      <td>t</td>\n",
       "      <td>l</td>\n",
       "      <td>f</td>\n",
       "      <td>c</td>\n",
       "    </tr>\n",
       "    <tr>\n",
       "      <th>3</th>\n",
       "      <td>poisonous</td>\n",
       "      <td>x</td>\n",
       "      <td>y</td>\n",
       "      <td>w</td>\n",
       "      <td>t</td>\n",
       "      <td>p</td>\n",
       "      <td>f</td>\n",
       "      <td>c</td>\n",
       "    </tr>\n",
       "    <tr>\n",
       "      <th>4</th>\n",
       "      <td>edible</td>\n",
       "      <td>x</td>\n",
       "      <td>s</td>\n",
       "      <td>g</td>\n",
       "      <td>f</td>\n",
       "      <td>n</td>\n",
       "      <td>f</td>\n",
       "      <td>w</td>\n",
       "    </tr>\n",
       "  </tbody>\n",
       "</table>\n",
       "</div>"
      ],
      "text/plain": [
       "       class cap-shape cap-surface cap-color bruises odor gill-attachment  \\\n",
       "0  poisonous         x           s         n       t    p               f   \n",
       "1     edible         x           s         y       t    a               f   \n",
       "2     edible         b           s         w       t    l               f   \n",
       "3  poisonous         x           y         w       t    p               f   \n",
       "4     edible         x           s         g       f    n               f   \n",
       "\n",
       "  gill-spacing  \n",
       "0            c  \n",
       "1            c  \n",
       "2            c  \n",
       "3            c  \n",
       "4            w  "
      ]
     },
     "execution_count": 52,
     "metadata": {},
     "output_type": "execute_result"
    }
   ],
   "source": [
    "df = pd.read_csv(\"mushrooms.csv\")\n",
    "df['class'] = df['class'].map({\"e\": \"edible\", \"p\": \"poisonous\"})\n",
    "df.iloc[:5,:8]"
   ]
  },
  {
   "cell_type": "code",
   "execution_count": 53,
   "id": "nuclear-banner",
   "metadata": {},
   "outputs": [],
   "source": [
    "X = df.drop(\"class\", axis = 1).copy()\n",
    "y = df['class'].copy()\n",
    "\n",
    "label_encoder_data = X.copy()\n",
    "label_encoder = LabelEncoder()\n",
    "for col in X.columns:\n",
    "    label_encoder_data[col] = label_encoder.fit_transform(label_encoder_data[col])\n",
    "    \n",
    "X = label_encoder_data"
   ]
  },
  {
   "cell_type": "code",
   "execution_count": 54,
   "id": "obvious-grant",
   "metadata": {},
   "outputs": [],
   "source": [
    "X_train, X_test, y_train, y_test = train_test_split(X, y, test_size=0.1, random_state=42)"
   ]
  },
  {
   "cell_type": "code",
   "execution_count": 55,
   "id": "american-mattress",
   "metadata": {},
   "outputs": [
    {
     "data": {
      "text/plain": [
       "(7311, 22)"
      ]
     },
     "execution_count": 55,
     "metadata": {},
     "output_type": "execute_result"
    }
   ],
   "source": [
    "X_train.shape\n"
   ]
  },
  {
   "cell_type": "code",
   "execution_count": 56,
   "id": "compliant-desire",
   "metadata": {},
   "outputs": [
    {
     "data": {
      "text/plain": [
       "(813, 22)"
      ]
     },
     "execution_count": 56,
     "metadata": {},
     "output_type": "execute_result"
    }
   ],
   "source": [
    "X_test.shape"
   ]
  },
  {
   "cell_type": "code",
   "execution_count": 57,
   "id": "recent-nicholas",
   "metadata": {},
   "outputs": [
    {
     "name": "stdout",
     "output_type": "stream",
     "text": [
      "GaussianNB                  mean accuracy using 10-fold cross validation: 92.15% - mean training time 0.0099 sec\n",
      "PassiveAggressiveClassifier mean accuracy using 10-fold cross validation: 91.86% - mean training time 0.0203 sec\n",
      "RidgeClassifier             mean accuracy using 10-fold cross validation: 94.52% - mean training time 0.0203 sec\n",
      "SGDClassifier               mean accuracy using 10-fold cross validation: 93.78% - mean training time 0.0577 sec\n",
      "SVC                         mean accuracy using 10-fold cross validation: 98.96% - mean training time 0.3071 sec\n",
      "RandomForestClassifier      mean accuracy using 10-fold cross validation: 100.00% - mean training time 0.2477 sec\n",
      "GradientBoostingClassifier  mean accuracy using 10-fold cross validation: 100.00% - mean training time 0.5489 sec\n",
      "AdaBoostClassifier          mean accuracy using 10-fold cross validation: 100.00% - mean training time 0.4178 sec\n"
     ]
    }
   ],
   "source": [
    "# Create a dictionary with the model which will be tested\n",
    "models = {\n",
    "    \"GaussianNB\":{\"model\":GaussianNB()},\n",
    "    \"PassiveAggressiveClassifier\":{\"model\":PassiveAggressiveClassifier() },\n",
    "    \"RidgeClassifier\":{\"model\":RidgeClassifier() },\n",
    "    \"SGDClassifier\":{\"model\":SGDClassifier() },\n",
    "    \"SVC\":{\"model\":SVC() },\n",
    "    \"RandomForestClassifier\":{\"model\":RandomForestClassifier() },\n",
    "    \"GradientBoostingClassifier\":{\"model\":GradientBoostingClassifier() },\n",
    "    \"AdaBoostClassifier\":{\"model\":AdaBoostClassifier() }\n",
    "}\n",
    "\n",
    "# Use the 10-fold cross validation for each model\n",
    "# to get the mean validation accuracy and the mean training time\n",
    "for name, m in models.items():\n",
    "    # Cross validation of the model\n",
    "    model = m['model']\n",
    "    result = cross_validate(model, X_train,y_train,cv = 10)\n",
    "    \n",
    "    # Mean accuracy and mean training time\n",
    "    mean_val_accuracy = round( sum(result['test_score']) / len(result['test_score']), 4)\n",
    "    mean_fit_time = round( sum(result['fit_time']) / len(result['fit_time']), 4)\n",
    "    \n",
    "    # Add the result to the dictionary witht he models\n",
    "    m['val_accuracy'] = mean_val_accuracy\n",
    "    m['Training time (sec)'] = mean_fit_time\n",
    "    \n",
    "    # Display the result\n",
    "    print(f\"{name:27} mean accuracy using 10-fold cross validation: {mean_val_accuracy*100:.2f}% - mean training time {mean_fit_time} sec\")"
   ]
  },
  {
   "cell_type": "code",
   "execution_count": 58,
   "id": "homeless-playing",
   "metadata": {},
   "outputs": [
    {
     "data": {
      "text/html": [
       "<div>\n",
       "<style scoped>\n",
       "    .dataframe tbody tr th:only-of-type {\n",
       "        vertical-align: middle;\n",
       "    }\n",
       "\n",
       "    .dataframe tbody tr th {\n",
       "        vertical-align: top;\n",
       "    }\n",
       "\n",
       "    .dataframe thead th {\n",
       "        text-align: right;\n",
       "    }\n",
       "</style>\n",
       "<table border=\"1\" class=\"dataframe\">\n",
       "  <thead>\n",
       "    <tr style=\"text-align: right;\">\n",
       "      <th></th>\n",
       "      <th>model</th>\n",
       "      <th>val_accuracy</th>\n",
       "      <th>Training time (sec)</th>\n",
       "    </tr>\n",
       "  </thead>\n",
       "  <tbody>\n",
       "    <tr>\n",
       "      <th>0</th>\n",
       "      <td>RandomForestClassifier</td>\n",
       "      <td>1.0000</td>\n",
       "      <td>0.2477</td>\n",
       "    </tr>\n",
       "    <tr>\n",
       "      <th>1</th>\n",
       "      <td>GradientBoostingClassifier</td>\n",
       "      <td>1.0000</td>\n",
       "      <td>0.5489</td>\n",
       "    </tr>\n",
       "    <tr>\n",
       "      <th>2</th>\n",
       "      <td>AdaBoostClassifier</td>\n",
       "      <td>1.0000</td>\n",
       "      <td>0.4178</td>\n",
       "    </tr>\n",
       "    <tr>\n",
       "      <th>3</th>\n",
       "      <td>SVC</td>\n",
       "      <td>0.9896</td>\n",
       "      <td>0.3071</td>\n",
       "    </tr>\n",
       "    <tr>\n",
       "      <th>4</th>\n",
       "      <td>RidgeClassifier</td>\n",
       "      <td>0.9452</td>\n",
       "      <td>0.0203</td>\n",
       "    </tr>\n",
       "    <tr>\n",
       "      <th>5</th>\n",
       "      <td>SGDClassifier</td>\n",
       "      <td>0.9378</td>\n",
       "      <td>0.0577</td>\n",
       "    </tr>\n",
       "    <tr>\n",
       "      <th>6</th>\n",
       "      <td>GaussianNB</td>\n",
       "      <td>0.9215</td>\n",
       "      <td>0.0099</td>\n",
       "    </tr>\n",
       "    <tr>\n",
       "      <th>7</th>\n",
       "      <td>PassiveAggressiveClassifier</td>\n",
       "      <td>0.9186</td>\n",
       "      <td>0.0203</td>\n",
       "    </tr>\n",
       "  </tbody>\n",
       "</table>\n",
       "</div>"
      ],
      "text/plain": [
       "                         model  val_accuracy  Training time (sec)\n",
       "0       RandomForestClassifier        1.0000               0.2477\n",
       "1   GradientBoostingClassifier        1.0000               0.5489\n",
       "2           AdaBoostClassifier        1.0000               0.4178\n",
       "3                          SVC        0.9896               0.3071\n",
       "4              RidgeClassifier        0.9452               0.0203\n",
       "5                SGDClassifier        0.9378               0.0577\n",
       "6                   GaussianNB        0.9215               0.0099\n",
       "7  PassiveAggressiveClassifier        0.9186               0.0203"
      ]
     },
     "execution_count": 58,
     "metadata": {},
     "output_type": "execute_result"
    }
   ],
   "source": [
    "# Create a DataFrame with the results\n",
    "models_result = []\n",
    "\n",
    "for name, v in models.items():\n",
    "    lst = [name, v['val_accuracy'],v['Training time (sec)']]\n",
    "    models_result.append(lst)\n",
    "\n",
    "df_results = pd.DataFrame(models_result, \n",
    "                          columns = ['model','val_accuracy','Training time (sec)'])\n",
    "df_results.sort_values(by='val_accuracy', ascending=False, inplace=True)\n",
    "df_results.reset_index(inplace=True,drop=True)\n",
    "df_results"
   ]
  },
  {
   "cell_type": "code",
   "execution_count": 65,
   "id": "extra-steam",
   "metadata": {},
   "outputs": [
    {
     "data": {
      "text/markdown": [
       "## Best Model: RandomForestClassifier with 100.0% accuracy on the test set"
      ],
      "text/plain": [
       "<IPython.core.display.Markdown object>"
      ]
     },
     "metadata": {},
     "output_type": "display_data"
    },
    {
     "data": {
      "text/markdown": [
       "## Trained in: 0.2477 sec"
      ],
      "text/plain": [
       "<IPython.core.display.Markdown object>"
      ]
     },
     "metadata": {},
     "output_type": "display_data"
    },
    {
     "data": {
      "image/png": "[encoded data removed]",
      "text/plain": [
       "<Figure size 720x504 with 1 Axes>"
      ]
     },
     "metadata": {
      "needs_background": "light"
     },
     "output_type": "display_data"
    }
   ],
   "source": [
    "# Get the model with the highest mean validation accuracy\n",
    "best_model = df_results.iloc[0]\n",
    "\n",
    "# Fit the model\n",
    "model = models[best_model[0]]['model']\n",
    "model.fit(X_train,y_train)\n",
    "\n",
    "# Predict the labels with the data set\n",
    "pred = model.predict(X_test)\n",
    "\n",
    "# Display the results\n",
    "printmd(f'## Best Model: {best_model[0]} with {best_model[1]*100}% accuracy on the test set')\n",
    "printmd(f'## Trained in: {best_model[2]} sec')\n",
    "\n",
    "# Display a confusion matrix\n",
    "from sklearn.metrics import confusion_matrix\n",
    "cf_matrix = confusion_matrix(y_test, pred, normalize='true')\n",
    "plt.figure(figsize = (10,7))\n",
    "sns.heatmap(cf_matrix, annot=True, xticklabels = sorted(set(y_test)), yticklabels = sorted(set(y_test)),cbar=False)\n",
    "plt.title('Normalized Confusion Matrix', fontsize = 23)\n",
    "plt.xticks(fontsize=20)\n",
    "plt.yticks(fontsize=20)\n",
    "plt.show()"
   ]
  },
  {
   "cell_type": "code",
   "execution_count": null,
   "id": "french-european",
   "metadata": {},
   "outputs": [],
   "source": []
  }
 ],
 "metadata": {
  "kernelspec": {
   "display_name": "Python 3",
   "language": "python",
   "name": "python3"
  },
  "language_info": {
   "codemirror_mode": {
    "name": "ipython",
    "version": 3
   },
   "file_extension": ".py",
   "mimetype": "text/x-python",
   "name": "python",
   "nbconvert_exporter": "python",
   "pygments_lexer": "ipython3",
   "version": "3.8.0"
  }
 },
 "nbformat": 4,
 "nbformat_minor": 5
}
